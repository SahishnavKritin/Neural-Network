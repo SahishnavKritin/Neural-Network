{
 "cells": [
  {
   "cell_type": "markdown",
   "id": "2c2ed120",
   "metadata": {},
   "source": [
    "Classification using Deep neural network"
   ]
  },
  {
   "cell_type": "code",
   "execution_count": 420,
   "id": "d27fbbc5",
   "metadata": {},
   "outputs": [],
   "source": [
    "import numpy as np\n",
    "import pandas as pd\n",
    "import matplotlib.pyplot as plt\n",
    "import math\n",
    "import random\n",
    "from sklearn.model_selection import train_test_split"
   ]
  },
  {
   "cell_type": "code",
   "execution_count": 421,
   "id": "8378db53",
   "metadata": {},
   "outputs": [],
   "source": [
    "def eval_metrics(y_pred,y_test):\n",
    "    tp=0\n",
    "    fp=0\n",
    "    tn=0\n",
    "    fn=0\n",
    "    for i in range(len(y_pred[0])):\n",
    "        if y_pred[0][i]==1 and y_test[0][i]==1:\n",
    "            tp+=1\n",
    "        elif y_pred[0][i]==0 and y_test[0][i]==0:\n",
    "            tn+=1\n",
    "        elif y_pred[0][i]==0 and y_test[0][i]==1:\n",
    "            fn+=1\n",
    "        elif y_pred[0][i]==1 and y_test[0][i]==0:\n",
    "            fp+=1\n",
    "    print(\"True postive =\",tp,end=\"\\t\")\n",
    "    print(\"False postive =\",fp,end=\"\\t\")\n",
    "    print(\"True negative =\",tn,end=\"\\t\")\n",
    "    print(\"False negative =\",fn,end=\"\\n\")\n",
    "    precision=tp/(tp+fp)\n",
    "    print(\"Precision =\",precision,end=\"\\t\\t\")\n",
    "    recall=tp/(tp+fn)\n",
    "    print(\"recall =\",recall,end=\"\\t\\t\")\n",
    "    f1_score=2*(precision*recall)/(precision+recall)\n",
    "    print(\"f1_score =\",f1_score,end=\"\\t\\t\")\n",
    "    accuracy=(tp+tn)/(tp+tn+fp+fn)\n",
    "    print(\"accuracy =\",accuracy)\n",
    "    \n",
    "    return None"
   ]
  },
  {
   "cell_type": "code",
   "execution_count": 422,
   "id": "949972a4",
   "metadata": {},
   "outputs": [],
   "source": [
    "def sigmoid(z):\n",
    "    A = 1/(1+np.exp(-z))\n",
    "    return A, z"
   ]
  },
  {
   "cell_type": "code",
   "execution_count": 423,
   "id": "9a7785ac",
   "metadata": {},
   "outputs": [],
   "source": [
    "def relu(z):\n",
    "    A = np.maximum(0,z)\n",
    "    return A, z"
   ]
  },
  {
   "cell_type": "code",
   "execution_count": 424,
   "id": "44871ac2",
   "metadata": {},
   "outputs": [],
   "source": [
    "def params_init(layer_dims):\n",
    "    params = {}\n",
    "    L = len(layer_dims) \n",
    "    for l in range(1, L):\n",
    "        params['W' + str(l)] = np.random.randn(layer_dims[l], layer_dims[l-1]) \n",
    "        params['b' + str(l)] = np.zeros((layer_dims[l], 1))        \n",
    "    return params"
   ]
  },
  {
   "cell_type": "code",
   "execution_count": 425,
   "id": "e9bb0e66",
   "metadata": {},
   "outputs": [],
   "source": [
    "def activation(_A, W, b, activation):\n",
    "    if activation == \"sigmoid\":\n",
    "        Z=np.dot(W,_A) + b\n",
    "        linear_cache = (_A, W, b)\n",
    "        A, activation_cache = sigmoid(Z)            \n",
    "    elif activation == \"relu\":\n",
    "        Z=np.dot(W,_A) + b\n",
    "        linear_cache = (_A, W, b)\n",
    "        A, activation_cache = relu(Z)        \n",
    "    cache = (linear_cache, activation_cache)\n",
    "    return A, cache"
   ]
  },
  {
   "cell_type": "code",
   "execution_count": 426,
   "id": "6eb3c1eb",
   "metadata": {},
   "outputs": [],
   "source": [
    "def forward(X, params):\n",
    "    caches = []\n",
    "    A = X\n",
    "    L = len(params) //2\n",
    "    for l in range(1, L):\n",
    "        _A = A \n",
    "        W = params['W' + str(l)]\n",
    "        b = params['b' + str(l)]\n",
    "        A, cache = activation(_A, W, b, activation = \"relu\")\n",
    "        caches.append(cache)\n",
    "    W = params['W' + str(L)]\n",
    "    b = params['b' + str(L)]\n",
    "    A_, cache = activation(A, W, b, activation = \"sigmoid\")\n",
    "    caches.append(cache)    \n",
    "    return A_, caches"
   ]
  },
  {
   "cell_type": "code",
   "execution_count": 427,
   "id": "b05703d0",
   "metadata": {},
   "outputs": [],
   "source": [
    "def cost(A_, Y):\n",
    "    m = Y.shape[1]\n",
    "    cost1 = (-1/m) * (np.dot(Y, np.log(A_).T) + np.dot((1-Y), np.log(1-A_).T))\n",
    "    cost1 = np.squeeze(cost1)\n",
    "    return cost1"
   ]
  },
  {
   "cell_type": "code",
   "execution_count": 428,
   "id": "3431c45c",
   "metadata": {},
   "outputs": [],
   "source": [
    "def backward(dZ, cache):\n",
    "    _A, W, b = cache\n",
    "    m = _A.shape[1]\n",
    "    dW = (1/m) * np.dot(dZ, _A.T)\n",
    "    db = (1/m) * np.sum(dZ, axis=1, keepdims=True)\n",
    "    d_A = np.dot(W.T, dZ)    \n",
    "    return d_A, dW, db\n",
    "\n"
   ]
  },
  {
   "cell_type": "code",
   "execution_count": 429,
   "id": "b1e15082",
   "metadata": {},
   "outputs": [],
   "source": [
    "def relu_backward(dA, cache):\n",
    "    Z = cache\n",
    "    dZ = np.array(dA, copy=True) \n",
    "    dZ[Z <= 0] = 0\n",
    "    return dZ"
   ]
  },
  {
   "cell_type": "code",
   "execution_count": 430,
   "id": "37e6ec9d",
   "metadata": {},
   "outputs": [],
   "source": [
    "def sigmoid_backward(dA, cache):\n",
    "    Z = cache \n",
    "    s = 1/(1+np.exp(-Z))\n",
    "    dZ = dA * s * (1-s)\n",
    "    return dZ"
   ]
  },
  {
   "cell_type": "code",
   "execution_count": 431,
   "id": "fb783ff8",
   "metadata": {},
   "outputs": [],
   "source": [
    "def activation_backward(dA, cache, activation):\n",
    "    linear_cache, activation_cache = cache   \n",
    "    if activation == \"relu\":\n",
    "        dZ = relu_backward(dA, activation_cache)\n",
    "        d_A, dW, db =backward(dZ, linear_cache)        \n",
    "    elif activation == \"sigmoid\":\n",
    "        dZ = sigmoid_backward(dA, activation_cache)\n",
    "        d_A, dW, db =backward(dZ, linear_cache)        \n",
    "    return d_A, dW, db"
   ]
  },
  {
   "cell_type": "code",
   "execution_count": 432,
   "id": "cb36175e",
   "metadata": {},
   "outputs": [],
   "source": [
    "def backModel(A_, Y, caches):\n",
    "    grads = {}\n",
    "    L = len(caches) \n",
    "    m = A_.shape[1]\n",
    "    Y = Y.reshape(A_.shape) \n",
    "    dA_ = - (np.divide(Y, A_) - np.divide(1 - Y, 1 - A_))\n",
    "    current_cache = caches[L-1]\n",
    "    grads[\"dA\" + str(L-1)], grads[\"dW\" + str(L)], grads[\"db\" + str(L)] = activation_backward(dA_, current_cache, activation = \"sigmoid\")\n",
    "    for l in reversed(range(L-1)):\n",
    "        current_cache = caches[l]\n",
    "        d_A_temp, dW_temp, db_temp = activation_backward(grads[\"dA\" + str(l + 1)], current_cache, activation = \"relu\")\n",
    "        grads[\"dA\" + str(l)] = d_A_temp\n",
    "        grads[\"dW\" + str(l + 1)] = dW_temp\n",
    "        grads[\"db\" + str(l + 1)] = db_temp\n",
    "    return grads"
   ]
  },
  {
   "cell_type": "code",
   "execution_count": 433,
   "id": "63798050",
   "metadata": {},
   "outputs": [],
   "source": [
    "def update_params(p, grads, learning_rate):\n",
    "    params = p.copy()\n",
    "    L = len(params) //2\n",
    "    for l in range(L):\n",
    "        params[\"W\" + str(l+1)] = params[\"W\" + str(l+1)] - learning_rate * grads[\"dW\" + str(l+1)]\n",
    "        params[\"b\" + str(l+1)] = params[\"b\" + str(l+1)] - learning_rate * grads[\"db\" + str(l+1)]\n",
    "    return params"
   ]
  },
  {
   "cell_type": "code",
   "execution_count": 434,
   "id": "411cf446",
   "metadata": {},
   "outputs": [],
   "source": [
    "def Model(X, Y, layer_dims, learning_rate = 0.0075, num_iterations = 3000):\n",
    "    np.random.seed(1)\n",
    "    costs = []     \n",
    "    params = params_init(layer_dims)\n",
    "    for i in range(0, num_iterations):\n",
    "        A_, caches = forward(X, params)\n",
    "        cost1 = cost(A_, Y)\n",
    "        grads = backModel(A_, Y, caches)\n",
    "        params = update_params(params, grads, learning_rate)  \n",
    "        if i == (num_iterations-1):\n",
    "            print(cost1,end=\"\\t\")\n",
    "        if i % 400 == 0 or i == num_iterations:\n",
    "            costs.append(cost1)\n",
    "    return params, costs"
   ]
  },
  {
   "cell_type": "code",
   "execution_count": 435,
   "id": "8f2d686b",
   "metadata": {},
   "outputs": [
    {
     "name": "stdout",
     "output_type": "stream",
     "text": [
      "(500, 2)\n",
      "(500,)\n"
     ]
    }
   ],
   "source": [
    "df=pd.read_csv(\"Ls.csv\")\n",
    "X=df.loc[:,df.columns!='label'].values[:,:]\n",
    "y=np.array(df[\"label\"])\n",
    "print(X.shape)\n",
    "print(y.shape)"
   ]
  },
  {
   "cell_type": "code",
   "execution_count": 436,
   "id": "f1e51253",
   "metadata": {},
   "outputs": [
    {
     "data": {
      "image/png": "[encoded data removed]",
      "text/plain": [
       "<Figure size 432x288 with 1 Axes>"
      ]
     },
     "metadata": {
      "needs_background": "light"
     },
     "output_type": "display_data"
    }
   ],
   "source": [
    "m=X.shape[0]\n",
    "x1=[]\n",
    "x2=[]\n",
    "for i in range(m):\n",
    "    x1.append(X[i][0])\n",
    "    x2.append(X[i][1])\n",
    "x1=np.array(x1)\n",
    "x2=np.array(x2)\n",
    "plt.scatter(x1,x2)\n",
    "\n",
    "plt.title(\"Visualizing the Data :\")\n",
    "plt.show()"
   ]
  },
  {
   "cell_type": "code",
   "execution_count": 437,
   "id": "cf6f7829",
   "metadata": {},
   "outputs": [],
   "source": [
    "x_train, x_test,y_train,y_test = train_test_split(X,y,test_size =0.3)\n",
    "layer_dims=[2,8,1]\n",
    "x_train=x_train.T\n",
    "y_train=y_train.reshape(1,len(y_train))\n",
    "x_test=x_test.T\n",
    "y_test=y_test.reshape(1,len(y_test))"
   ]
  },
  {
   "cell_type": "code",
   "execution_count": 438,
   "id": "0138302f",
   "metadata": {},
   "outputs": [],
   "source": [
    "def layers(layer_dims):\n",
    "    params, costs = Model(x_train, y_train, layer_dims, num_iterations = 2500)\n",
    "    y_pred,cache=forward(x_test, params)\n",
    "    for i in range(len(y_pred[0])):\n",
    "        if y_pred[0][i]>0.5:\n",
    "            y_pred[0][i]=1\n",
    "        else:\n",
    "            y_pred[0][i]=0\n",
    "    print(\"is the FINAL cost with layer dimensions as \", layer_dims)\n",
    "    eval_metrics(y_pred,y_test)\n",
    "    return None"
   ]
  },
  {
   "cell_type": "code",
   "execution_count": 439,
   "id": "c9a611c3",
   "metadata": {},
   "outputs": [
    {
     "name": "stdout",
     "output_type": "stream",
     "text": [
      "0.2555018096667095\tis the FINAL cost with layer dimensions as  [2, 1, 1]\n",
      "True postive = 80\tFalse postive = 5\tTrue negative = 65\tFalse negative = 0\n",
      "Precision = 0.9411764705882353\t\trecall = 1.0\t\tf1_score = 0.9696969696969697\t\taccuracy = 0.9666666666666667\n"
     ]
    }
   ],
   "source": [
    "layers([2,1,1])"
   ]
  },
  {
   "cell_type": "markdown",
   "id": "b43d5a82",
   "metadata": {},
   "source": [
    "2-Layer network with layer dimensions as [2,1,1]"
   ]
  },
  {
   "cell_type": "code",
   "execution_count": 440,
   "id": "6764bc94",
   "metadata": {},
   "outputs": [
    {
     "name": "stdout",
     "output_type": "stream",
     "text": [
      "0.22154061097257796\tis the FINAL cost with layer dimensions as  [2, 2, 1]\n",
      "True postive = 80\tFalse postive = 4\tTrue negative = 66\tFalse negative = 0\n",
      "Precision = 0.9523809523809523\t\trecall = 1.0\t\tf1_score = 0.975609756097561\t\taccuracy = 0.9733333333333334\n"
     ]
    }
   ],
   "source": [
    "layers([2,2,1])"
   ]
  },
  {
   "cell_type": "markdown",
   "id": "2a97ab28",
   "metadata": {},
   "source": [
    "2-Layer network with layer dimensions as [2,2,1]"
   ]
  },
  {
   "cell_type": "code",
   "execution_count": 441,
   "id": "0211471f",
   "metadata": {},
   "outputs": [
    {
     "name": "stdout",
     "output_type": "stream",
     "text": [
      "0.06247094134327081\tis the FINAL cost with layer dimensions as  [2, 8, 1]\n",
      "True postive = 80\tFalse postive = 0\tTrue negative = 70\tFalse negative = 0\n",
      "Precision = 1.0\t\trecall = 1.0\t\tf1_score = 1.0\t\taccuracy = 1.0\n"
     ]
    }
   ],
   "source": [
    "layers([2,8,1])"
   ]
  },
  {
   "cell_type": "markdown",
   "id": "3526ca63",
   "metadata": {},
   "source": [
    "2-Layer network with layer dimensions as [2,8,1]"
   ]
  },
  {
   "cell_type": "code",
   "execution_count": 442,
   "id": "97edf914",
   "metadata": {},
   "outputs": [
    {
     "name": "stdout",
     "output_type": "stream",
     "text": [
      "0.157251380213952\tis the FINAL cost with layer dimensions as  [2, 6, 4, 1]\n",
      "True postive = 80\tFalse postive = 2\tTrue negative = 68\tFalse negative = 0\n",
      "Precision = 0.975609756097561\t\trecall = 1.0\t\tf1_score = 0.9876543209876543\t\taccuracy = 0.9866666666666667\n"
     ]
    }
   ],
   "source": [
    "layers([2,6,4,1])"
   ]
  },
  {
   "cell_type": "markdown",
   "id": "398146dd",
   "metadata": {},
   "source": [
    "3-Layer network with layer dimensions as [2,6,4,1]"
   ]
  },
  {
   "cell_type": "code",
   "execution_count": 443,
   "id": "5dcd77a9",
   "metadata": {},
   "outputs": [
    {
     "name": "stdout",
     "output_type": "stream",
     "text": [
      "0.03610958833385014\tis the FINAL cost with layer dimensions as  [2, 10, 4, 1]\n",
      "True postive = 80\tFalse postive = 0\tTrue negative = 70\tFalse negative = 0\n",
      "Precision = 1.0\t\trecall = 1.0\t\tf1_score = 1.0\t\taccuracy = 1.0\n"
     ]
    }
   ],
   "source": [
    "layers([2,10,4,1])"
   ]
  },
  {
   "cell_type": "markdown",
   "id": "555b60d0",
   "metadata": {},
   "source": [
    "3-Layer network with layer dimensions as [2,10,4,1]"
   ]
  },
  {
   "cell_type": "code",
   "execution_count": 444,
   "id": "98f2f437",
   "metadata": {},
   "outputs": [
    {
     "name": "stdout",
     "output_type": "stream",
     "text": [
      "0.010489725620629765\tis the FINAL cost with layer dimensions as  [2, 10, 6, 4, 1]\n",
      "True postive = 80\tFalse postive = 0\tTrue negative = 70\tFalse negative = 0\n",
      "Precision = 1.0\t\trecall = 1.0\t\tf1_score = 1.0\t\taccuracy = 1.0\n"
     ]
    }
   ],
   "source": [
    "layers([2,10,6,4,1])"
   ]
  },
  {
   "cell_type": "markdown",
   "id": "d32d75b5",
   "metadata": {},
   "source": [
    "4-Layer network with layer dimensions as [2,10,6,4,1]"
   ]
  },
  {
   "cell_type": "code",
   "execution_count": null,
   "id": "3896c7c2",
   "metadata": {},
   "outputs": [],
   "source": []
  }
 ],
 "metadata": {
  "kernelspec": {
   "display_name": "Python 3 (ipykernel)",
   "language": "python",
   "name": "python3"
  },
  "language_info": {
   "codemirror_mode": {
    "name": "ipython",
    "version": 3
   },
   "file_extension": ".py",
   "mimetype": "text/x-python",
   "name": "python",
   "nbconvert_exporter": "python",
   "pygments_lexer": "ipython3",
   "version": "3.9.7"
  }
 },
 "nbformat": 4,
 "nbformat_minor": 5
}
